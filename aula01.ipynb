"I'm a raw cell with no format."
